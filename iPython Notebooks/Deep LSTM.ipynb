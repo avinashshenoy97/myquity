{
 "cells": [
  {
   "cell_type": "code",
   "execution_count": 1,
   "metadata": {},
   "outputs": [
    {
     "name": "stderr",
     "output_type": "stream",
     "text": [
      "Using TensorFlow backend.\n"
     ]
    },
    {
     "name": "stdout",
     "output_type": "stream",
     "text": [
      "Length of training set = 2745\n",
      "Length of test data = 1831\n"
     ]
    }
   ],
   "source": [
    "# -------------------- Imports -------------------- #\n",
    "import keras, pandas as pd, sys, numpy as np, math\n",
    "from keras.models import Sequential\n",
    "from keras.layers import Dense\n",
    "from keras.layers import LSTM\n",
    "from sklearn.preprocessing import MinMaxScaler\n",
    "from sklearn.metrics import mean_squared_error\n",
    "\n",
    "\n",
    "# -------------------- Globals -------------------- #\n",
    "input_file = '../data/NSE:HINDPETRO.csv'\n",
    "dataset = None\n",
    "look_back = 30\n",
    "\n",
    "verbosity = False\n",
    "\n",
    "\n",
    "# -------------------- Data -------------------- #\n",
    "def data_with_look_back(dataset):\n",
    "    '''Returns x with look_back samples at time t and y with the sample at t+1 '''\n",
    "\n",
    "    if len(dataset) < look_back:\n",
    "        raise Exception(\"Dataset not large enough for given look back!\")\n",
    "\n",
    "    x, y = list(), list()\n",
    "    for i in range(len(dataset) - look_back):\n",
    "        x.append(dataset[i:look_back+i])\n",
    "        y.append(dataset[look_back+i])\n",
    "    \n",
    "    return np.array(x), np.array(y)\n",
    "\n",
    "\n",
    "# Get data\n",
    "df = pd.read_csv(input_file, usecols=['timestamp', 'close'])\n",
    "dataset = df['close'].astype('float32')\n",
    "dataset = dataset[::-1]\n",
    "\n",
    "if verbosity:\n",
    "    print(\"Most recent data point at :\", df['timestamp'][0], \":\", dataset[len(dataset) - 1])\n",
    "    print(\"Oldest data point at :\", df['timestamp'][len(df['timestamp']) - 1], \":\", dataset[0])\n",
    "\n",
    "for i in range(len(dataset)):       # replace missing values with mean of prev and next\n",
    "    if dataset[i] == 0:\n",
    "        dataset[i] = np.mean([dataset[i-1], dataset[i+1]])\n",
    "\n",
    "dataset = dataset.values.reshape((-1, 1))\n",
    "\n",
    "# Normalize data\n",
    "scaler = MinMaxScaler(feature_range=(0, 1))\n",
    "dataset = scaler.fit_transform(dataset)\n",
    "\n",
    "# Train and test\n",
    "l = len(dataset) * 60 // 100\n",
    "train_data = dataset[:l]\n",
    "test_data = dataset[l:]\n",
    "\n",
    "print(\"Length of training set =\", len(train_data))\n",
    "print(\"Length of test data =\", len(test_data))"
   ]
  },
  {
   "cell_type": "code",
   "execution_count": 2,
   "metadata": {},
   "outputs": [],
   "source": [
    "train_x, train_y = data_with_look_back(train_data)\n",
    "test_x, test_y = data_with_look_back(test_data)\n",
    "\n",
    "train_x = np.reshape(train_x, (train_x.shape[0], 1, train_x.shape[1]))\n",
    "test_x = np.reshape(test_x, (test_x.shape[0], 1, test_x.shape[1]))\n",
    "\n",
    "verbose = 0"
   ]
  },
  {
   "cell_type": "code",
   "execution_count": 3,
   "metadata": {},
   "outputs": [
    {
     "data": {
      "image/svg+xml": [
       "<svg height=\"410pt\" viewBox=\"0.00 0.00 167.48 410.00\" width=\"167pt\" xmlns=\"http://www.w3.org/2000/svg\" xmlns:xlink=\"http://www.w3.org/1999/xlink\">\n",
       "<g class=\"graph\" id=\"graph0\" transform=\"scale(1 1) rotate(0) translate(4 406)\">\n",
       "<title>G</title>\n",
       "<polygon fill=\"#ffffff\" points=\"-4,4 -4,-406 163.4795,-406 163.4795,4 -4,4\" stroke=\"transparent\"/>\n",
       "<!-- 4414562712 -->\n",
       "<g class=\"node\" id=\"node1\">\n",
       "<title>4414562712</title>\n",
       "<polygon fill=\"none\" points=\"0,-365.5 0,-401.5 159.4795,-401.5 159.4795,-365.5 0,-365.5\" stroke=\"#000000\"/>\n",
       "<text fill=\"#000000\" font-family=\"Times,serif\" font-size=\"14.00\" text-anchor=\"middle\" x=\"79.7397\" y=\"-379.3\">lstm_1_input: InputLayer</text>\n",
       "</g>\n",
       "<!-- 4414570112 -->\n",
       "<g class=\"node\" id=\"node2\">\n",
       "<title>4414570112</title>\n",
       "<polygon fill=\"none\" points=\"30.3174,-292.5 30.3174,-328.5 129.1621,-328.5 129.1621,-292.5 30.3174,-292.5\" stroke=\"#000000\"/>\n",
       "<text fill=\"#000000\" font-family=\"Times,serif\" font-size=\"14.00\" text-anchor=\"middle\" x=\"79.7397\" y=\"-306.3\">lstm_1: LSTM</text>\n",
       "</g>\n",
       "<!-- 4414562712&#45;&gt;4414570112 -->\n",
       "<g class=\"edge\" id=\"edge1\">\n",
       "<title>4414562712-&gt;4414570112</title>\n",
       "<path d=\"M79.7397,-365.4551C79.7397,-357.3828 79.7397,-347.6764 79.7397,-338.6817\" fill=\"none\" stroke=\"#000000\"/>\n",
       "<polygon fill=\"#000000\" points=\"83.2398,-338.5903 79.7397,-328.5904 76.2398,-338.5904 83.2398,-338.5903\" stroke=\"#000000\"/>\n",
       "</g>\n",
       "<!-- 4414570392 -->\n",
       "<g class=\"node\" id=\"node3\">\n",
       "<title>4414570392</title>\n",
       "<polygon fill=\"none\" points=\"30.3174,-219.5 30.3174,-255.5 129.1621,-255.5 129.1621,-219.5 30.3174,-219.5\" stroke=\"#000000\"/>\n",
       "<text fill=\"#000000\" font-family=\"Times,serif\" font-size=\"14.00\" text-anchor=\"middle\" x=\"79.7397\" y=\"-233.3\">lstm_2: LSTM</text>\n",
       "</g>\n",
       "<!-- 4414570112&#45;&gt;4414570392 -->\n",
       "<g class=\"edge\" id=\"edge2\">\n",
       "<title>4414570112-&gt;4414570392</title>\n",
       "<path d=\"M79.7397,-292.4551C79.7397,-284.3828 79.7397,-274.6764 79.7397,-265.6817\" fill=\"none\" stroke=\"#000000\"/>\n",
       "<polygon fill=\"#000000\" points=\"83.2398,-265.5903 79.7397,-255.5904 76.2398,-265.5904 83.2398,-265.5903\" stroke=\"#000000\"/>\n",
       "</g>\n",
       "<!-- 4414562992 -->\n",
       "<g class=\"node\" id=\"node4\">\n",
       "<title>4414562992</title>\n",
       "<polygon fill=\"none\" points=\"30.3174,-146.5 30.3174,-182.5 129.1621,-182.5 129.1621,-146.5 30.3174,-146.5\" stroke=\"#000000\"/>\n",
       "<text fill=\"#000000\" font-family=\"Times,serif\" font-size=\"14.00\" text-anchor=\"middle\" x=\"79.7397\" y=\"-160.3\">lstm_3: LSTM</text>\n",
       "</g>\n",
       "<!-- 4414570392&#45;&gt;4414562992 -->\n",
       "<g class=\"edge\" id=\"edge3\">\n",
       "<title>4414570392-&gt;4414562992</title>\n",
       "<path d=\"M79.7397,-219.4551C79.7397,-211.3828 79.7397,-201.6764 79.7397,-192.6817\" fill=\"none\" stroke=\"#000000\"/>\n",
       "<polygon fill=\"#000000\" points=\"83.2398,-192.5903 79.7397,-182.5904 76.2398,-192.5904 83.2398,-192.5903\" stroke=\"#000000\"/>\n",
       "</g>\n",
       "<!-- 4687657952 -->\n",
       "<g class=\"node\" id=\"node5\">\n",
       "<title>4687657952</title>\n",
       "<polygon fill=\"none\" points=\"30.3174,-73.5 30.3174,-109.5 129.1621,-109.5 129.1621,-73.5 30.3174,-73.5\" stroke=\"#000000\"/>\n",
       "<text fill=\"#000000\" font-family=\"Times,serif\" font-size=\"14.00\" text-anchor=\"middle\" x=\"79.7397\" y=\"-87.3\">lstm_4: LSTM</text>\n",
       "</g>\n",
       "<!-- 4414562992&#45;&gt;4687657952 -->\n",
       "<g class=\"edge\" id=\"edge4\">\n",
       "<title>4414562992-&gt;4687657952</title>\n",
       "<path d=\"M79.7397,-146.4551C79.7397,-138.3828 79.7397,-128.6764 79.7397,-119.6817\" fill=\"none\" stroke=\"#000000\"/>\n",
       "<polygon fill=\"#000000\" points=\"83.2398,-119.5903 79.7397,-109.5904 76.2398,-119.5904 83.2398,-119.5903\" stroke=\"#000000\"/>\n",
       "</g>\n",
       "<!-- 4539142664 -->\n",
       "<g class=\"node\" id=\"node6\">\n",
       "<title>4539142664</title>\n",
       "<polygon fill=\"none\" points=\"27.6138,-.5 27.6138,-36.5 131.8657,-36.5 131.8657,-.5 27.6138,-.5\" stroke=\"#000000\"/>\n",
       "<text fill=\"#000000\" font-family=\"Times,serif\" font-size=\"14.00\" text-anchor=\"middle\" x=\"79.7397\" y=\"-14.3\">dense_1: Dense</text>\n",
       "</g>\n",
       "<!-- 4687657952&#45;&gt;4539142664 -->\n",
       "<g class=\"edge\" id=\"edge5\">\n",
       "<title>4687657952-&gt;4539142664</title>\n",
       "<path d=\"M79.7397,-73.4551C79.7397,-65.3828 79.7397,-55.6764 79.7397,-46.6817\" fill=\"none\" stroke=\"#000000\"/>\n",
       "<polygon fill=\"#000000\" points=\"83.2398,-46.5903 79.7397,-36.5904 76.2398,-46.5904 83.2398,-46.5903\" stroke=\"#000000\"/>\n",
       "</g>\n",
       "</g>\n",
       "</svg>"
      ],
      "text/plain": [
       "<IPython.core.display.SVG object>"
      ]
     },
     "execution_count": 3,
     "metadata": {},
     "output_type": "execute_result"
    }
   ],
   "source": [
    "# -------------------- Model -------------------- #\n",
    "model = Sequential()\n",
    "model.add(LSTM(10, input_shape=(1, look_back), return_sequences=True))\n",
    "model.add(LSTM(10, input_shape=(1, look_back), return_sequences=True))\n",
    "model.add(LSTM(5, input_shape=(1, look_back), return_sequences=True))\n",
    "model.add(LSTM(5, input_shape=(1, look_back)))\n",
    "model.add(Dense(1))\n",
    "model.compile(loss='mean_squared_error', optimizer='adam')\n",
    "model.fit(train_x, train_y, epochs=100, batch_size=30, verbose=verbose)\n",
    "\n",
    "trainPredict = model.predict(train_x)\n",
    "testPredict = model.predict(test_x)\n",
    "\n",
    "# -------------------- Plot Model -------------------- #\n",
    "\n",
    "from IPython.display import SVG\n",
    "from keras.utils.vis_utils import model_to_dot\n",
    "\n",
    "SVG(model_to_dot(model).create(prog='dot', format='svg'))"
   ]
  },
  {
   "cell_type": "code",
   "execution_count": 4,
   "metadata": {},
   "outputs": [
    {
     "name": "stdout",
     "output_type": "stream",
     "text": [
      "Average Error in Training set predictions: 2.46 \n",
      "Average Error in Test set predictions: 57.89 \n",
      "\n",
      "\n",
      "Average RMSE in Training set predictions: 7.96 \n",
      "Average RMSE in Test set predictions: 107.69 \n"
     ]
    }
   ],
   "source": [
    "# invert predictions\n",
    "trainPredict = scaler.inverse_transform(trainPredict)\n",
    "train_y = scaler.inverse_transform(train_y)\n",
    "testPredict = scaler.inverse_transform(testPredict)\n",
    "test_y = scaler.inverse_transform(test_y)\n",
    "\n",
    "# calculate average error\n",
    "trainScore = np.mean([math.fabs(x - y) for x, y in zip(train_y, trainPredict)])\n",
    "print('Average Error in Training set predictions: %.2f ' % (trainScore))\n",
    "testScore = np.mean([math.fabs(x - y) for x, y in zip(test_y, testPredict)])\n",
    "print('Average Error in Test set predictions: %.2f ' % (testScore))\n",
    "\n",
    "print('\\n')\n",
    "\n",
    "# calculate RMSE\n",
    "trainScore = math.sqrt(np.mean([math.fabs(x - y)**2 for x, y in zip(train_y, trainPredict)]))\n",
    "print('Average RMSE in Training set predictions: %.2f ' % (trainScore))\n",
    "testScore = math.sqrt(np.mean([math.fabs(x - y)**2 for x, y in zip(test_y, testPredict)]))\n",
    "print('Average RMSE in Test set predictions: %.2f ' % (testScore))"
   ]
  },
  {
   "cell_type": "code",
   "execution_count": 5,
   "metadata": {},
   "outputs": [
    {
     "data": {
      "text/plain": [
       "<Figure size 640x480 with 1 Axes>"
      ]
     },
     "metadata": {},
     "output_type": "display_data"
    }
   ],
   "source": [
    "from matplotlib import pyplot as plt\n",
    "# Predicted Vs Original of train set\n",
    "\n",
    "plt.plot(train_y, label='Real')\n",
    "plt.plot(trainPredict, label='Predicted')\n",
    "plt.legend()\n",
    "plt.show()"
   ]
  },
  {
   "cell_type": "code",
   "execution_count": 6,
   "metadata": {},
   "outputs": [
    {
     "data": {
      "image/png": "[encoded data removed]",
      "text/plain": [
       "<Figure size 432x288 with 1 Axes>"
      ]
     },
     "metadata": {},
     "output_type": "display_data"
    }
   ],
   "source": [
    "# Predicted Vs Original of train set\n",
    "\n",
    "plt.plot(test_y, label='Real')\n",
    "plt.plot(testPredict, label='Predicted')\n",
    "plt.legend()\n",
    "plt.show()"
   ]
  },
  {
   "cell_type": "code",
   "execution_count": 7,
   "metadata": {},
   "outputs": [
    {
     "data": {
      "image/png": "[encoded data removed]",
      "text/plain": [
       "<Figure size 432x288 with 1 Axes>"
      ]
     },
     "metadata": {},
     "output_type": "display_data"
    }
   ],
   "source": [
    "# Print direction of growth - train set - take one month, predict the next year's values\n",
    "batchSize = 365\n",
    "orig = scaler.fit_transform(train_y)\n",
    "orig.reshape(orig.shape[0])\n",
    "for i in range(0, len(train_y)+1, batchSize):\n",
    "    o = orig[i:i+look_back]\n",
    "    p = list(o[:])\n",
    "    for j in range(batchSize-look_back):\n",
    "        p.append(model.predict(o.reshape((1, 1, 30)))[0])\n",
    "        o = list(o[1:])\n",
    "        o.append(p[-1])\n",
    "        o = np.array(o)\n",
    "    p = scaler.inverse_transform(p)\n",
    "    plt.plot(range(i, i+batchSize), p, label='pred')\n",
    "\n",
    "orig = scaler.inverse_transform(orig)\n",
    "plt.plot(orig, label='orig')\n",
    "plt.legend()\n",
    "plt.show()"
   ]
  },
  {
   "cell_type": "code",
   "execution_count": 8,
   "metadata": {},
   "outputs": [
    {
     "data": {
      "image/png": "[encoded data removed]",
      "text/plain": [
       "<Figure size 432x288 with 1 Axes>"
      ]
     },
     "metadata": {},
     "output_type": "display_data"
    }
   ],
   "source": [
    "# Print direction of growth - test set - take one month, predict the next year's values\n",
    "batchSize = 250\n",
    "end = False\n",
    "orig = scaler.fit_transform(test_y)\n",
    "orig.reshape(orig.shape[0])\n",
    "for i in range(0, len(test_y)+1, batchSize):\n",
    "    o = orig[i:i+look_back]\n",
    "    p = list(o[:])\n",
    "    for j in range(batchSize-look_back):\n",
    "        try:\n",
    "            p.append(model.predict(o.reshape((1, 1, 30)))[0])\n",
    "        except:\n",
    "            end = True\n",
    "            break\n",
    "        o = list(o[1:])\n",
    "        o.append(p[-1])\n",
    "        o = np.array(o)\n",
    "    if end:\n",
    "        break\n",
    "    p = scaler.inverse_transform(p)\n",
    "    plt.plot(range(i, i+batchSize), p)\n",
    "\n",
    "orig = scaler.inverse_transform(orig)\n",
    "plt.plot(orig, label='orig')\n",
    "plt.legend()\n",
    "plt.show()"
   ]
  },
  {
   "cell_type": "code",
   "execution_count": null,
   "metadata": {},
   "outputs": [],
   "source": []
  }
 ],
 "metadata": {
  "kernelspec": {
   "display_name": "Python 3",
   "language": "python",
   "name": "python3"
  },
  "language_info": {
   "codemirror_mode": {
    "name": "ipython",
    "version": 3
   },
   "file_extension": ".py",
   "mimetype": "text/x-python",
   "name": "python",
   "nbconvert_exporter": "python",
   "pygments_lexer": "ipython3",
   "version": "3.6.4"
  }
 },
 "nbformat": 4,
 "nbformat_minor": 2
}
